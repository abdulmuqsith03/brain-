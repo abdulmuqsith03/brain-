{
 "cells": [
  {
   "cell_type": "code",
   "execution_count": null,
   "id": "b5504699-984f-4cd4-8227-a684b1c9297f",
   "metadata": {},
   "outputs": [],
   "source": [
    "import nibabel as nib\n",
    "import numpy as np\n",
    "import matplotlib.pyplot as plt\n",
    "\n",
    "# Load the segmentation file\n",
    "file_path = file_path = file_path = r\"C:\\Users\\muqsi\\OneDrive\\Desktop\\brain\\jupyter notebook\\data\\brats-men-train\\BraTS-MEN-00008-000\\BraTS-MEN-00008-000-t2w.nii\"\n",
    " # Change this to the correct path\n",
    "seg_img = nib.load(file_path).get_fdata()\n",
    "\n",
    "# Select the middle slice for visualization\n",
    "mid_slice = seg_img.shape[2] // 2\n",
    "seg_slice = seg_img[:, :, mid_slice]\n",
    "\n",
    "# Calculate tumor size (number of nonzero pixels)\n",
    "tumor_pixels = np.sum(seg_slice > 0)  # Count tumor pixels\n",
    "total_pixels = seg_slice.shape[0] * seg_slice.shape[1]  # Total pixels in the slice\n",
    "tumor_percentage = (tumor_pixels / total_pixels) * 100  # Calculate percentage\n",
    "\n",
    "# Display the segmentation mask with tumor percentage\n",
    "plt.figure(figsize=(6, 6))\n",
    "plt.title(f\"Tumor Segmentation (Middle Slice)\\nTumor Size: {tumor_pixels} pixels ({tumor_percentage:.2f}%)\")\n",
    "plt.imshow(seg_slice, cmap=\"jet\")\n",
    "plt.colorbar(label=\"Segmentation Labels\")\n",
    "plt.show()"
   ]
  },
  {
   "cell_type": "code",
   "execution_count": null,
   "id": "9f287ae8-e547-41ee-8ac4-46a25d781c28",
   "metadata": {},
   "outputs": [],
   "source": []
  },
  {
   "cell_type": "code",
   "execution_count": null,
   "id": "93fd157e-daa6-4a65-ac15-03a4678b5589",
   "metadata": {},
   "outputs": [],
   "source": []
  },
  {
   "cell_type": "code",
   "execution_count": null,
   "id": "8b00857b-d776-4f7e-a269-598debd6f90f",
   "metadata": {},
   "outputs": [],
   "source": []
  },
  {
   "cell_type": "code",
   "execution_count": null,
   "id": "49208dc1-506d-4fe3-a154-a05c6219b226",
   "metadata": {},
   "outputs": [],
   "source": []
  }
 ],
 "metadata": {
  "kernelspec": {
   "display_name": "Python 3 (ipykernel)",
   "language": "python",
   "name": "python3"
  },
  "language_info": {
   "codemirror_mode": {
    "name": "ipython",
    "version": 3
   },
   "file_extension": ".py",
   "mimetype": "text/x-python",
   "name": "python",
   "nbconvert_exporter": "python",
   "pygments_lexer": "ipython3",
   "version": "3.9.21"
  }
 },
 "nbformat": 4,
 "nbformat_minor": 5
}
